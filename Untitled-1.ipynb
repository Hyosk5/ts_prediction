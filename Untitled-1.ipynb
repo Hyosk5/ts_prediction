{
 "cells": [
  {
   "cell_type": "code",
   "execution_count": 1,
   "metadata": {},
   "outputs": [],
   "source": [
    "import findspark\n",
    "findspark.init()\n",
    "from pyspark.sql import SparkSession\n",
    "spark = SparkSession.builder.appName('read_csv').getOrCreate()\n",
    "spark.conf.set(\"spark.sql.legacy.timeParserPolicy\",\"LEGACY\")"
   ]
  },
  {
   "cell_type": "code",
   "execution_count": 2,
   "metadata": {},
   "outputs": [
    {
     "name": "stdout",
     "output_type": "stream",
     "text": [
      "+----------+-----+----+-----+\n",
      "|      date|store|item|sales|\n",
      "+----------+-----+----+-----+\n",
      "|2013-01-01|    1|   1|   13|\n",
      "|2013-01-02|    1|   1|   11|\n",
      "|2013-01-03|    1|   1|   14|\n",
      "|2013-01-04|    1|   1|   13|\n",
      "|2013-01-05|    1|   1|   10|\n",
      "|2013-01-06|    1|   1|   12|\n",
      "|2013-01-07|    1|   1|   10|\n",
      "|2013-01-08|    1|   1|    9|\n",
      "|2013-01-09|    1|   1|   12|\n",
      "|2013-01-10|    1|   1|    9|\n",
      "|2013-01-11|    1|   1|    9|\n",
      "|2013-01-12|    1|   1|    7|\n",
      "|2013-01-13|    1|   1|   10|\n",
      "|2013-01-14|    1|   1|   12|\n",
      "|2013-01-15|    1|   1|    5|\n",
      "|2013-01-16|    1|   1|    7|\n",
      "|2013-01-17|    1|   1|   16|\n",
      "|2013-01-18|    1|   1|    7|\n",
      "|2013-01-19|    1|   1|   18|\n",
      "|2013-01-20|    1|   1|   15|\n",
      "+----------+-----+----+-----+\n",
      "only showing top 20 rows\n",
      "\n"
     ]
    }
   ],
   "source": [
    "t = spark.read.csv('./train.csv', header=True, inferSchema=True)\n",
    "t.show()"
   ]
  },
  {
   "cell_type": "code",
   "execution_count": 3,
   "metadata": {},
   "outputs": [],
   "source": [
    "# date column에서 주차, 요일 추출\n",
    "from pyspark.sql.functions import *\n",
    "\n",
    "t = t.withColumn('year', date_format(col('date'), 'y').cast(\"int\"))\\\n",
    "        .withColumn('month', date_format(col('date'), 'M').cast(\"int\"))\\\n",
    "            .withColumn('week', date_format(col('date'), 'W').cast(\"int\"))\n"
   ]
  },
  {
   "cell_type": "code",
   "execution_count": 4,
   "metadata": {},
   "outputs": [],
   "source": [
    "t.createOrReplaceTempView('rawdf')\n",
    "# 주 단위 데이터 생성(DataFrame 활용)\n",
    "week_it_df = t.groupBy(['year', 'month', 'week', 'item']).agg(sum('sales').alias('week_sales')).orderBy(['year','month','week','item'])\n",
    "week_si_df = t.groupBy(['year', 'month', 'week', 'store', 'item']).agg(sum('sales').alias('week_sales')).orderBy(['year','month','week','store','item'])"
   ]
  },
  {
   "cell_type": "code",
   "execution_count": 18,
   "metadata": {},
   "outputs": [
    {
     "name": "stdout",
     "output_type": "stream",
     "text": [
      "+----+-----+----+-----+----+----------+-----------------+--------------------+\n",
      "|year|month|week|store|item|week_sales|week_sales_vector|        scaled_sales|\n",
      "+----+-----+----+-----+----+----------+-----------------+--------------------+\n",
      "|2013|    1|   1|    1|   1|        61|           [61.0]|[0.04695222405271...|\n",
      "|2013|    1|   1|    1|   2|       151|          [151.0]|[0.12108731466227...|\n",
      "|2013|    1|   1|    1|   3|        92|           [92.0]|[0.07248764415156...|\n",
      "|2013|    1|   1|    1|   4|        60|           [60.0]|[0.04612850082372...|\n",
      "|2013|    1|   1|    1|   5|        42|           [42.0]|[0.03130148270181...|\n",
      "+----+-----+----+-----+----+----------+-----------------+--------------------+\n",
      "only showing top 5 rows\n",
      "\n"
     ]
    }
   ],
   "source": [
    "from pyspark.ml.feature import MinMaxScaler, VectorAssembler\n",
    "from pyspark.ml import Pipeline\n",
    "\n",
    "assembler = VectorAssembler(inputCols = ['week_sales'], outputCol = 'week_sales_vector') \n",
    "scaler = MinMaxScaler(inputCol = 'week_sales_vector', outputCol = 'scaled_sales') \n",
    "pipeline = Pipeline(stages=[assembler, scaler]) \n",
    "scalerModel = pipeline.fit(week_si_df) \n",
    "scalerData = scalerModel.transform(week_si_df) \n",
    "\n",
    "scalerData.show(5)"
   ]
  },
  {
   "cell_type": "code",
   "execution_count": 21,
   "metadata": {},
   "outputs": [
    {
     "name": "stderr",
     "output_type": "stream",
     "text": [
      "ERROR:root:KeyboardInterrupt while sending command.\n",
      "Traceback (most recent call last):\n",
      "  File \"C:\\spark\\spark-3.2.1-bin-hadoop2.7\\python\\lib\\py4j-0.10.9.3-src.zip\\py4j\\java_gateway.py\", line 1038, in send_command\n",
      "    response = connection.send_command(command)\n",
      "  File \"C:\\spark\\spark-3.2.1-bin-hadoop2.7\\python\\lib\\py4j-0.10.9.3-src.zip\\py4j\\clientserver.py\", line 475, in send_command\n",
      "    answer = smart_decode(self.stream.readline()[:-1])\n",
      "  File \"c:\\Users\\hyosk\\miniconda3\\envs\\mobis\\lib\\socket.py\", line 589, in readinto\n",
      "    return self._sock.recv_into(b)\n",
      "KeyboardInterrupt\n"
     ]
    },
    {
     "ename": "KeyboardInterrupt",
     "evalue": "",
     "output_type": "error",
     "traceback": [
      "\u001b[1;31m---------------------------------------------------------------------------\u001b[0m",
      "\u001b[1;31mKeyboardInterrupt\u001b[0m                         Traceback (most recent call last)",
      "\u001b[1;32m~\\AppData\\Local\\Temp\\ipykernel_11840\\1754094011.py\u001b[0m in \u001b[0;36m<module>\u001b[1;34m\u001b[0m\n\u001b[0;32m      6\u001b[0m \u001b[1;33m\u001b[0m\u001b[0m\n\u001b[0;32m      7\u001b[0m \u001b[1;32mfor\u001b[0m \u001b[0mi\u001b[0m\u001b[1;33m,\u001b[0m\u001b[0mj\u001b[0m \u001b[1;32min\u001b[0m \u001b[0mst_it\u001b[0m\u001b[1;33m:\u001b[0m\u001b[1;33m\u001b[0m\u001b[1;33m\u001b[0m\u001b[0m\n\u001b[1;32m----> 8\u001b[1;33m     \u001b[0mts_lst\u001b[0m\u001b[1;33m.\u001b[0m\u001b[0mappend\u001b[0m\u001b[1;33m(\u001b[0m\u001b[0mnp\u001b[0m\u001b[1;33m.\u001b[0m\u001b[0marray\u001b[0m\u001b[1;33m(\u001b[0m\u001b[0mscalerData\u001b[0m\u001b[1;33m.\u001b[0m\u001b[0mfilter\u001b[0m\u001b[1;33m(\u001b[0m\u001b[1;33m(\u001b[0m\u001b[0mscalerData\u001b[0m\u001b[1;33m[\u001b[0m\u001b[1;34m'store'\u001b[0m\u001b[1;33m]\u001b[0m\u001b[1;33m==\u001b[0m\u001b[0mi\u001b[0m\u001b[1;33m)\u001b[0m \u001b[1;33m&\u001b[0m \u001b[1;33m(\u001b[0m\u001b[0mscalerData\u001b[0m\u001b[1;33m[\u001b[0m\u001b[1;34m'item'\u001b[0m\u001b[1;33m]\u001b[0m \u001b[1;33m==\u001b[0m \u001b[0mj\u001b[0m\u001b[1;33m)\u001b[0m\u001b[1;33m)\u001b[0m\u001b[1;33m.\u001b[0m\u001b[0mselect\u001b[0m\u001b[1;33m(\u001b[0m\u001b[1;34m'scaled_sales'\u001b[0m\u001b[1;33m)\u001b[0m\u001b[1;33m.\u001b[0m\u001b[0mcollect\u001b[0m\u001b[1;33m(\u001b[0m\u001b[1;33m)\u001b[0m\u001b[1;33m)\u001b[0m\u001b[1;33m)\u001b[0m\u001b[1;33m\u001b[0m\u001b[1;33m\u001b[0m\u001b[0m\n\u001b[0m\u001b[0;32m      9\u001b[0m \u001b[0mts_lst\u001b[0m \u001b[1;33m=\u001b[0m \u001b[0mnp\u001b[0m\u001b[1;33m.\u001b[0m\u001b[0marray\u001b[0m\u001b[1;33m(\u001b[0m\u001b[0mts_lst\u001b[0m\u001b[1;33m)\u001b[0m\u001b[1;33m\u001b[0m\u001b[1;33m\u001b[0m\u001b[0m\n",
      "\u001b[1;32mC:\\spark\\spark-3.2.1-bin-hadoop2.7\\python\\pyspark\\sql\\dataframe.py\u001b[0m in \u001b[0;36mcollect\u001b[1;34m(self)\u001b[0m\n\u001b[0;32m    691\u001b[0m         \"\"\"\n\u001b[0;32m    692\u001b[0m         \u001b[1;32mwith\u001b[0m \u001b[0mSCCallSiteSync\u001b[0m\u001b[1;33m(\u001b[0m\u001b[0mself\u001b[0m\u001b[1;33m.\u001b[0m\u001b[0m_sc\u001b[0m\u001b[1;33m)\u001b[0m \u001b[1;32mas\u001b[0m \u001b[0mcss\u001b[0m\u001b[1;33m:\u001b[0m\u001b[1;33m\u001b[0m\u001b[1;33m\u001b[0m\u001b[0m\n\u001b[1;32m--> 693\u001b[1;33m             \u001b[0msock_info\u001b[0m \u001b[1;33m=\u001b[0m \u001b[0mself\u001b[0m\u001b[1;33m.\u001b[0m\u001b[0m_jdf\u001b[0m\u001b[1;33m.\u001b[0m\u001b[0mcollectToPython\u001b[0m\u001b[1;33m(\u001b[0m\u001b[1;33m)\u001b[0m\u001b[1;33m\u001b[0m\u001b[1;33m\u001b[0m\u001b[0m\n\u001b[0m\u001b[0;32m    694\u001b[0m         \u001b[1;32mreturn\u001b[0m \u001b[0mlist\u001b[0m\u001b[1;33m(\u001b[0m\u001b[0m_load_from_socket\u001b[0m\u001b[1;33m(\u001b[0m\u001b[0msock_info\u001b[0m\u001b[1;33m,\u001b[0m \u001b[0mBatchedSerializer\u001b[0m\u001b[1;33m(\u001b[0m\u001b[0mPickleSerializer\u001b[0m\u001b[1;33m(\u001b[0m\u001b[1;33m)\u001b[0m\u001b[1;33m)\u001b[0m\u001b[1;33m)\u001b[0m\u001b[1;33m)\u001b[0m\u001b[1;33m\u001b[0m\u001b[1;33m\u001b[0m\u001b[0m\n\u001b[0;32m    695\u001b[0m \u001b[1;33m\u001b[0m\u001b[0m\n",
      "\u001b[1;32mC:\\spark\\spark-3.2.1-bin-hadoop2.7\\python\\lib\\py4j-0.10.9.3-src.zip\\py4j\\java_gateway.py\u001b[0m in \u001b[0;36m__call__\u001b[1;34m(self, *args)\u001b[0m\n\u001b[0;32m   1318\u001b[0m             \u001b[0mproto\u001b[0m\u001b[1;33m.\u001b[0m\u001b[0mEND_COMMAND_PART\u001b[0m\u001b[1;33m\u001b[0m\u001b[1;33m\u001b[0m\u001b[0m\n\u001b[0;32m   1319\u001b[0m \u001b[1;33m\u001b[0m\u001b[0m\n\u001b[1;32m-> 1320\u001b[1;33m         \u001b[0manswer\u001b[0m \u001b[1;33m=\u001b[0m \u001b[0mself\u001b[0m\u001b[1;33m.\u001b[0m\u001b[0mgateway_client\u001b[0m\u001b[1;33m.\u001b[0m\u001b[0msend_command\u001b[0m\u001b[1;33m(\u001b[0m\u001b[0mcommand\u001b[0m\u001b[1;33m)\u001b[0m\u001b[1;33m\u001b[0m\u001b[1;33m\u001b[0m\u001b[0m\n\u001b[0m\u001b[0;32m   1321\u001b[0m         return_value = get_return_value(\n\u001b[0;32m   1322\u001b[0m             answer, self.gateway_client, self.target_id, self.name)\n",
      "\u001b[1;32mC:\\spark\\spark-3.2.1-bin-hadoop2.7\\python\\lib\\py4j-0.10.9.3-src.zip\\py4j\\java_gateway.py\u001b[0m in \u001b[0;36msend_command\u001b[1;34m(self, command, retry, binary)\u001b[0m\n\u001b[0;32m   1036\u001b[0m         \u001b[0mconnection\u001b[0m \u001b[1;33m=\u001b[0m \u001b[0mself\u001b[0m\u001b[1;33m.\u001b[0m\u001b[0m_get_connection\u001b[0m\u001b[1;33m(\u001b[0m\u001b[1;33m)\u001b[0m\u001b[1;33m\u001b[0m\u001b[1;33m\u001b[0m\u001b[0m\n\u001b[0;32m   1037\u001b[0m         \u001b[1;32mtry\u001b[0m\u001b[1;33m:\u001b[0m\u001b[1;33m\u001b[0m\u001b[1;33m\u001b[0m\u001b[0m\n\u001b[1;32m-> 1038\u001b[1;33m             \u001b[0mresponse\u001b[0m \u001b[1;33m=\u001b[0m \u001b[0mconnection\u001b[0m\u001b[1;33m.\u001b[0m\u001b[0msend_command\u001b[0m\u001b[1;33m(\u001b[0m\u001b[0mcommand\u001b[0m\u001b[1;33m)\u001b[0m\u001b[1;33m\u001b[0m\u001b[1;33m\u001b[0m\u001b[0m\n\u001b[0m\u001b[0;32m   1039\u001b[0m             \u001b[1;32mif\u001b[0m \u001b[0mbinary\u001b[0m\u001b[1;33m:\u001b[0m\u001b[1;33m\u001b[0m\u001b[1;33m\u001b[0m\u001b[0m\n\u001b[0;32m   1040\u001b[0m                 \u001b[1;32mreturn\u001b[0m \u001b[0mresponse\u001b[0m\u001b[1;33m,\u001b[0m \u001b[0mself\u001b[0m\u001b[1;33m.\u001b[0m\u001b[0m_create_connection_guard\u001b[0m\u001b[1;33m(\u001b[0m\u001b[0mconnection\u001b[0m\u001b[1;33m)\u001b[0m\u001b[1;33m\u001b[0m\u001b[1;33m\u001b[0m\u001b[0m\n",
      "\u001b[1;32mC:\\spark\\spark-3.2.1-bin-hadoop2.7\\python\\lib\\py4j-0.10.9.3-src.zip\\py4j\\clientserver.py\u001b[0m in \u001b[0;36msend_command\u001b[1;34m(self, command)\u001b[0m\n\u001b[0;32m    473\u001b[0m         \u001b[1;32mtry\u001b[0m\u001b[1;33m:\u001b[0m\u001b[1;33m\u001b[0m\u001b[1;33m\u001b[0m\u001b[0m\n\u001b[0;32m    474\u001b[0m             \u001b[1;32mwhile\u001b[0m \u001b[1;32mTrue\u001b[0m\u001b[1;33m:\u001b[0m\u001b[1;33m\u001b[0m\u001b[1;33m\u001b[0m\u001b[0m\n\u001b[1;32m--> 475\u001b[1;33m                 \u001b[0manswer\u001b[0m \u001b[1;33m=\u001b[0m \u001b[0msmart_decode\u001b[0m\u001b[1;33m(\u001b[0m\u001b[0mself\u001b[0m\u001b[1;33m.\u001b[0m\u001b[0mstream\u001b[0m\u001b[1;33m.\u001b[0m\u001b[0mreadline\u001b[0m\u001b[1;33m(\u001b[0m\u001b[1;33m)\u001b[0m\u001b[1;33m[\u001b[0m\u001b[1;33m:\u001b[0m\u001b[1;33m-\u001b[0m\u001b[1;36m1\u001b[0m\u001b[1;33m]\u001b[0m\u001b[1;33m)\u001b[0m\u001b[1;33m\u001b[0m\u001b[1;33m\u001b[0m\u001b[0m\n\u001b[0m\u001b[0;32m    476\u001b[0m                 \u001b[0mlogger\u001b[0m\u001b[1;33m.\u001b[0m\u001b[0mdebug\u001b[0m\u001b[1;33m(\u001b[0m\u001b[1;34m\"Answer received: {0}\"\u001b[0m\u001b[1;33m.\u001b[0m\u001b[0mformat\u001b[0m\u001b[1;33m(\u001b[0m\u001b[0manswer\u001b[0m\u001b[1;33m)\u001b[0m\u001b[1;33m)\u001b[0m\u001b[1;33m\u001b[0m\u001b[1;33m\u001b[0m\u001b[0m\n\u001b[0;32m    477\u001b[0m                 \u001b[1;31m# Happens when a the other end is dead. There might be an empty\u001b[0m\u001b[1;33m\u001b[0m\u001b[1;33m\u001b[0m\u001b[1;33m\u001b[0m\u001b[0m\n",
      "\u001b[1;32mc:\\Users\\hyosk\\miniconda3\\envs\\mobis\\lib\\socket.py\u001b[0m in \u001b[0;36mreadinto\u001b[1;34m(self, b)\u001b[0m\n\u001b[0;32m    587\u001b[0m         \u001b[1;32mwhile\u001b[0m \u001b[1;32mTrue\u001b[0m\u001b[1;33m:\u001b[0m\u001b[1;33m\u001b[0m\u001b[1;33m\u001b[0m\u001b[0m\n\u001b[0;32m    588\u001b[0m             \u001b[1;32mtry\u001b[0m\u001b[1;33m:\u001b[0m\u001b[1;33m\u001b[0m\u001b[1;33m\u001b[0m\u001b[0m\n\u001b[1;32m--> 589\u001b[1;33m                 \u001b[1;32mreturn\u001b[0m \u001b[0mself\u001b[0m\u001b[1;33m.\u001b[0m\u001b[0m_sock\u001b[0m\u001b[1;33m.\u001b[0m\u001b[0mrecv_into\u001b[0m\u001b[1;33m(\u001b[0m\u001b[0mb\u001b[0m\u001b[1;33m)\u001b[0m\u001b[1;33m\u001b[0m\u001b[1;33m\u001b[0m\u001b[0m\n\u001b[0m\u001b[0;32m    590\u001b[0m             \u001b[1;32mexcept\u001b[0m \u001b[0mtimeout\u001b[0m\u001b[1;33m:\u001b[0m\u001b[1;33m\u001b[0m\u001b[1;33m\u001b[0m\u001b[0m\n\u001b[0;32m    591\u001b[0m                 \u001b[0mself\u001b[0m\u001b[1;33m.\u001b[0m\u001b[0m_timeout_occurred\u001b[0m \u001b[1;33m=\u001b[0m \u001b[1;32mTrue\u001b[0m\u001b[1;33m\u001b[0m\u001b[1;33m\u001b[0m\u001b[0m\n",
      "\u001b[1;31mKeyboardInterrupt\u001b[0m: "
     ]
    }
   ],
   "source": [
    "import numpy as np\n",
    "from itertools import product\n",
    "ts_lst = []\n",
    "st_it = [list(range(1,11)), list(range(1,51))]\n",
    "st_it = list(product(*st_it))\n",
    "\n",
    "for i,j in st_it:\n",
    "    ts_lst.append(np.array(scalerData.filter((scalerData['store']==i) & (scalerData['item'] == j)).select('scaled_sales').collect()))\n",
    "ts_lst = np.array(ts_lst)"
   ]
  },
  {
   "cell_type": "code",
   "execution_count": 27,
   "metadata": {},
   "outputs": [
    {
     "data": {
      "text/plain": [
       "array([0.04695222, 0.05271829, 0.05848435, ..., 0.092257  , 0.09637562,\n",
       "       0.01400329])"
      ]
     },
     "execution_count": 27,
     "metadata": {},
     "output_type": "execute_result"
    }
   ],
   "source": [
    "np.array(ts_lst).flatten()"
   ]
  },
  {
   "cell_type": "code",
   "execution_count": 11,
   "metadata": {},
   "outputs": [
    {
     "name": "stderr",
     "output_type": "stream",
     "text": [
      "[Parallel(n_jobs=-1)]: Using backend ThreadingBackend with 8 concurrent workers.\n",
      "[Parallel(n_jobs=-1)]: Done  34 tasks      | elapsed:    0.0s\n",
      "[Parallel(n_jobs=-1)]: Done 184 tasks      | elapsed:    0.0s\n",
      "[Parallel(n_jobs=-1)]: Done 434 tasks      | elapsed:    0.0s\n",
      "[Parallel(n_jobs=-1)]: Done 784 tasks      | elapsed:    0.1s\n",
      "[Parallel(n_jobs=-1)]: Done 1234 tasks      | elapsed:    0.1s\n",
      "[Parallel(n_jobs=-1)]: Done 1784 tasks      | elapsed:    0.3s\n",
      "[Parallel(n_jobs=-1)]: Done 2434 tasks      | elapsed:    0.4s\n",
      "[Parallel(n_jobs=-1)]: Done 3184 tasks      | elapsed:    0.5s\n",
      "[Parallel(n_jobs=-1)]: Done 4034 tasks      | elapsed:    0.7s\n",
      "[Parallel(n_jobs=-1)]: Done 4984 tasks      | elapsed:    0.9s\n",
      "[Parallel(n_jobs=-1)]: Done 6034 tasks      | elapsed:    1.0s\n",
      "[Parallel(n_jobs=-1)]: Done 7184 tasks      | elapsed:    1.3s\n",
      "[Parallel(n_jobs=-1)]: Done 8434 tasks      | elapsed:    1.5s\n",
      "[Parallel(n_jobs=-1)]: Done 9784 tasks      | elapsed:    1.8s\n",
      "[Parallel(n_jobs=-1)]: Done 11234 tasks      | elapsed:    2.1s\n",
      "[Parallel(n_jobs=-1)]: Done 12784 tasks      | elapsed:    2.4s\n",
      "[Parallel(n_jobs=-1)]: Done 14434 tasks      | elapsed:    2.7s\n",
      "[Parallel(n_jobs=-1)]: Done 16184 tasks      | elapsed:    3.1s\n",
      "[Parallel(n_jobs=-1)]: Done 18034 tasks      | elapsed:    3.5s\n",
      "[Parallel(n_jobs=-1)]: Done 19984 tasks      | elapsed:    3.9s\n",
      "[Parallel(n_jobs=-1)]: Done 22034 tasks      | elapsed:    4.3s\n",
      "[Parallel(n_jobs=-1)]: Done 24184 tasks      | elapsed:    4.8s\n",
      "[Parallel(n_jobs=-1)]: Done 26434 tasks      | elapsed:    5.2s\n",
      "[Parallel(n_jobs=-1)]: Done 28784 tasks      | elapsed:    5.7s\n",
      "[Parallel(n_jobs=-1)]: Done 31234 tasks      | elapsed:    6.2s\n",
      "[Parallel(n_jobs=-1)]: Done 33784 tasks      | elapsed:    6.7s\n",
      "[Parallel(n_jobs=-1)]: Done 36434 tasks      | elapsed:    7.3s\n",
      "[Parallel(n_jobs=-1)]: Done 39184 tasks      | elapsed:    7.8s\n",
      "[Parallel(n_jobs=-1)]: Done 42034 tasks      | elapsed:    8.4s\n",
      "[Parallel(n_jobs=-1)]: Done 44984 tasks      | elapsed:    9.5s\n",
      "[Parallel(n_jobs=-1)]: Done 48034 tasks      | elapsed:   10.7s\n",
      "[Parallel(n_jobs=-1)]: Done 51184 tasks      | elapsed:   12.3s\n",
      "[Parallel(n_jobs=-1)]: Done 54434 tasks      | elapsed:   13.3s\n",
      "[Parallel(n_jobs=-1)]: Done 57784 tasks      | elapsed:   14.3s\n",
      "[Parallel(n_jobs=-1)]: Done 61234 tasks      | elapsed:   15.1s\n",
      "[Parallel(n_jobs=-1)]: Done 64784 tasks      | elapsed:   16.0s\n",
      "[Parallel(n_jobs=-1)]: Done 68434 tasks      | elapsed:   16.9s\n",
      "[Parallel(n_jobs=-1)]: Done 72184 tasks      | elapsed:   17.9s\n",
      "[Parallel(n_jobs=-1)]: Done 76034 tasks      | elapsed:   19.0s\n",
      "[Parallel(n_jobs=-1)]: Done 79984 tasks      | elapsed:   19.9s\n",
      "[Parallel(n_jobs=-1)]: Done 84034 tasks      | elapsed:   20.7s\n",
      "[Parallel(n_jobs=-1)]: Done 88184 tasks      | elapsed:   21.6s\n",
      "[Parallel(n_jobs=-1)]: Done 92434 tasks      | elapsed:   22.6s\n",
      "[Parallel(n_jobs=-1)]: Done 96784 tasks      | elapsed:   23.5s\n",
      "[Parallel(n_jobs=-1)]: Done 101234 tasks      | elapsed:   24.4s\n",
      "[Parallel(n_jobs=-1)]: Done 105784 tasks      | elapsed:   25.4s\n",
      "[Parallel(n_jobs=-1)]: Done 110434 tasks      | elapsed:   26.4s\n",
      "[Parallel(n_jobs=-1)]: Done 115184 tasks      | elapsed:   27.5s\n",
      "[Parallel(n_jobs=-1)]: Done 120034 tasks      | elapsed:   29.5s\n",
      "[Parallel(n_jobs=-1)]: Done 124750 out of 124750 | elapsed:   31.1s finished\n"
     ]
    },
    {
     "name": "stdout",
     "output_type": "stream",
     "text": [
      "cluster_2 silhoutte_score:  0.5582086230146244\n"
     ]
    },
    {
     "name": "stderr",
     "output_type": "stream",
     "text": [
      "[Parallel(n_jobs=-1)]: Using backend ThreadingBackend with 8 concurrent workers.\n",
      "[Parallel(n_jobs=-1)]: Done  34 tasks      | elapsed:    0.0s\n",
      "[Parallel(n_jobs=-1)]: Done 184 tasks      | elapsed:    0.0s\n",
      "[Parallel(n_jobs=-1)]: Done 434 tasks      | elapsed:    0.1s\n",
      "[Parallel(n_jobs=-1)]: Done 784 tasks      | elapsed:    0.1s\n",
      "[Parallel(n_jobs=-1)]: Done 1234 tasks      | elapsed:    0.2s\n",
      "[Parallel(n_jobs=-1)]: Done 1784 tasks      | elapsed:    0.3s\n",
      "[Parallel(n_jobs=-1)]: Done 2434 tasks      | elapsed:    0.4s\n",
      "[Parallel(n_jobs=-1)]: Done 3184 tasks      | elapsed:    0.6s\n",
      "[Parallel(n_jobs=-1)]: Done 4034 tasks      | elapsed:    0.7s\n",
      "[Parallel(n_jobs=-1)]: Done 4984 tasks      | elapsed:    0.9s\n",
      "[Parallel(n_jobs=-1)]: Done 6034 tasks      | elapsed:    1.1s\n",
      "[Parallel(n_jobs=-1)]: Done 7184 tasks      | elapsed:    1.3s\n",
      "[Parallel(n_jobs=-1)]: Done 8434 tasks      | elapsed:    1.6s\n",
      "[Parallel(n_jobs=-1)]: Done 9784 tasks      | elapsed:    1.8s\n",
      "[Parallel(n_jobs=-1)]: Done 11234 tasks      | elapsed:    2.1s\n",
      "[Parallel(n_jobs=-1)]: Done 12784 tasks      | elapsed:    2.4s\n",
      "[Parallel(n_jobs=-1)]: Done 14434 tasks      | elapsed:    2.7s\n",
      "[Parallel(n_jobs=-1)]: Done 16184 tasks      | elapsed:    3.0s\n",
      "[Parallel(n_jobs=-1)]: Done 18034 tasks      | elapsed:    3.4s\n",
      "[Parallel(n_jobs=-1)]: Done 19984 tasks      | elapsed:    3.7s\n",
      "[Parallel(n_jobs=-1)]: Done 22034 tasks      | elapsed:    4.1s\n",
      "[Parallel(n_jobs=-1)]: Done 24184 tasks      | elapsed:    4.5s\n",
      "[Parallel(n_jobs=-1)]: Done 26434 tasks      | elapsed:    4.9s\n",
      "[Parallel(n_jobs=-1)]: Done 28784 tasks      | elapsed:    5.4s\n",
      "[Parallel(n_jobs=-1)]: Done 31234 tasks      | elapsed:    5.8s\n",
      "[Parallel(n_jobs=-1)]: Done 33784 tasks      | elapsed:    6.3s\n",
      "[Parallel(n_jobs=-1)]: Done 36434 tasks      | elapsed:    6.8s\n",
      "[Parallel(n_jobs=-1)]: Done 39184 tasks      | elapsed:    7.4s\n",
      "[Parallel(n_jobs=-1)]: Done 42034 tasks      | elapsed:    8.0s\n",
      "[Parallel(n_jobs=-1)]: Done 44984 tasks      | elapsed:    8.6s\n",
      "[Parallel(n_jobs=-1)]: Done 48034 tasks      | elapsed:    9.2s\n",
      "[Parallel(n_jobs=-1)]: Done 51184 tasks      | elapsed:    9.9s\n",
      "[Parallel(n_jobs=-1)]: Done 54434 tasks      | elapsed:   10.5s\n",
      "[Parallel(n_jobs=-1)]: Done 57784 tasks      | elapsed:   11.2s\n",
      "[Parallel(n_jobs=-1)]: Done 61234 tasks      | elapsed:   11.9s\n",
      "[Parallel(n_jobs=-1)]: Done 64784 tasks      | elapsed:   12.6s\n",
      "[Parallel(n_jobs=-1)]: Done 68434 tasks      | elapsed:   13.4s\n",
      "[Parallel(n_jobs=-1)]: Done 72184 tasks      | elapsed:   14.1s\n",
      "[Parallel(n_jobs=-1)]: Done 76034 tasks      | elapsed:   14.9s\n",
      "[Parallel(n_jobs=-1)]: Done 79984 tasks      | elapsed:   15.7s\n",
      "[Parallel(n_jobs=-1)]: Done 84034 tasks      | elapsed:   16.6s\n",
      "[Parallel(n_jobs=-1)]: Done 88184 tasks      | elapsed:   17.4s\n",
      "[Parallel(n_jobs=-1)]: Done 92434 tasks      | elapsed:   18.3s\n",
      "[Parallel(n_jobs=-1)]: Done 96784 tasks      | elapsed:   19.4s\n",
      "[Parallel(n_jobs=-1)]: Done 101234 tasks      | elapsed:   20.6s\n",
      "[Parallel(n_jobs=-1)]: Done 105784 tasks      | elapsed:   22.5s\n",
      "[Parallel(n_jobs=-1)]: Done 110434 tasks      | elapsed:   23.7s\n",
      "[Parallel(n_jobs=-1)]: Done 115184 tasks      | elapsed:   24.9s\n",
      "[Parallel(n_jobs=-1)]: Done 120034 tasks      | elapsed:   26.1s\n",
      "[Parallel(n_jobs=-1)]: Done 124750 out of 124750 | elapsed:   27.1s finished\n"
     ]
    },
    {
     "name": "stdout",
     "output_type": "stream",
     "text": [
      "cluster_3 silhoutte_score:  0.5286270488309759\n"
     ]
    },
    {
     "name": "stderr",
     "output_type": "stream",
     "text": [
      "[Parallel(n_jobs=-1)]: Using backend ThreadingBackend with 8 concurrent workers.\n",
      "[Parallel(n_jobs=-1)]: Done  34 tasks      | elapsed:    0.0s\n",
      "[Parallel(n_jobs=-1)]: Done 184 tasks      | elapsed:    0.0s\n",
      "[Parallel(n_jobs=-1)]: Done 434 tasks      | elapsed:    0.0s\n",
      "[Parallel(n_jobs=-1)]: Done 784 tasks      | elapsed:    0.1s\n",
      "[Parallel(n_jobs=-1)]: Done 1234 tasks      | elapsed:    0.2s\n",
      "[Parallel(n_jobs=-1)]: Done 1784 tasks      | elapsed:    0.3s\n",
      "[Parallel(n_jobs=-1)]: Done 2434 tasks      | elapsed:    0.4s\n",
      "[Parallel(n_jobs=-1)]: Done 3184 tasks      | elapsed:    0.6s\n",
      "[Parallel(n_jobs=-1)]: Done 4034 tasks      | elapsed:    0.7s\n",
      "[Parallel(n_jobs=-1)]: Done 4984 tasks      | elapsed:    0.9s\n",
      "[Parallel(n_jobs=-1)]: Done 6034 tasks      | elapsed:    1.1s\n",
      "[Parallel(n_jobs=-1)]: Done 7184 tasks      | elapsed:    1.3s\n",
      "[Parallel(n_jobs=-1)]: Done 8434 tasks      | elapsed:    1.5s\n",
      "[Parallel(n_jobs=-1)]: Done 9784 tasks      | elapsed:    1.8s\n",
      "[Parallel(n_jobs=-1)]: Done 11234 tasks      | elapsed:    2.1s\n",
      "[Parallel(n_jobs=-1)]: Done 12784 tasks      | elapsed:    2.4s\n",
      "[Parallel(n_jobs=-1)]: Done 14434 tasks      | elapsed:    2.7s\n",
      "[Parallel(n_jobs=-1)]: Done 16184 tasks      | elapsed:    3.0s\n",
      "[Parallel(n_jobs=-1)]: Done 18034 tasks      | elapsed:    3.4s\n",
      "[Parallel(n_jobs=-1)]: Done 19984 tasks      | elapsed:    3.8s\n",
      "[Parallel(n_jobs=-1)]: Done 22034 tasks      | elapsed:    4.2s\n",
      "[Parallel(n_jobs=-1)]: Done 24184 tasks      | elapsed:    4.7s\n",
      "[Parallel(n_jobs=-1)]: Done 26434 tasks      | elapsed:    5.2s\n",
      "[Parallel(n_jobs=-1)]: Done 28784 tasks      | elapsed:    5.6s\n",
      "[Parallel(n_jobs=-1)]: Done 31234 tasks      | elapsed:    6.1s\n",
      "[Parallel(n_jobs=-1)]: Done 33784 tasks      | elapsed:    6.6s\n",
      "[Parallel(n_jobs=-1)]: Done 36434 tasks      | elapsed:    7.2s\n",
      "[Parallel(n_jobs=-1)]: Done 39184 tasks      | elapsed:    7.8s\n",
      "[Parallel(n_jobs=-1)]: Done 42034 tasks      | elapsed:    8.4s\n",
      "[Parallel(n_jobs=-1)]: Done 44984 tasks      | elapsed:    9.0s\n",
      "[Parallel(n_jobs=-1)]: Done 48034 tasks      | elapsed:    9.6s\n",
      "[Parallel(n_jobs=-1)]: Done 51184 tasks      | elapsed:   10.3s\n",
      "[Parallel(n_jobs=-1)]: Done 54434 tasks      | elapsed:   10.9s\n",
      "[Parallel(n_jobs=-1)]: Done 57784 tasks      | elapsed:   11.7s\n",
      "[Parallel(n_jobs=-1)]: Done 61234 tasks      | elapsed:   12.4s\n",
      "[Parallel(n_jobs=-1)]: Done 64784 tasks      | elapsed:   13.1s\n",
      "[Parallel(n_jobs=-1)]: Done 68434 tasks      | elapsed:   13.9s\n",
      "[Parallel(n_jobs=-1)]: Done 72184 tasks      | elapsed:   14.6s\n",
      "[Parallel(n_jobs=-1)]: Done 76034 tasks      | elapsed:   15.4s\n",
      "[Parallel(n_jobs=-1)]: Done 79984 tasks      | elapsed:   16.3s\n",
      "[Parallel(n_jobs=-1)]: Done 84034 tasks      | elapsed:   17.1s\n",
      "[Parallel(n_jobs=-1)]: Done 88184 tasks      | elapsed:   17.9s\n",
      "[Parallel(n_jobs=-1)]: Done 92434 tasks      | elapsed:   18.8s\n",
      "[Parallel(n_jobs=-1)]: Done 96784 tasks      | elapsed:   20.0s\n",
      "[Parallel(n_jobs=-1)]: Done 101234 tasks      | elapsed:   21.0s\n",
      "[Parallel(n_jobs=-1)]: Done 105784 tasks      | elapsed:   22.0s\n",
      "[Parallel(n_jobs=-1)]: Done 110434 tasks      | elapsed:   23.0s\n",
      "[Parallel(n_jobs=-1)]: Done 115184 tasks      | elapsed:   24.2s\n",
      "[Parallel(n_jobs=-1)]: Done 120034 tasks      | elapsed:   25.5s\n",
      "[Parallel(n_jobs=-1)]: Done 124750 out of 124750 | elapsed:   26.5s finished\n"
     ]
    },
    {
     "name": "stdout",
     "output_type": "stream",
     "text": [
      "cluster_4 silhoutte_score:  0.49367386488194553\n"
     ]
    },
    {
     "name": "stderr",
     "output_type": "stream",
     "text": [
      "[Parallel(n_jobs=-1)]: Using backend ThreadingBackend with 8 concurrent workers.\n",
      "[Parallel(n_jobs=-1)]: Done  34 tasks      | elapsed:    0.0s\n",
      "[Parallel(n_jobs=-1)]: Done 184 tasks      | elapsed:    0.0s\n",
      "[Parallel(n_jobs=-1)]: Done 434 tasks      | elapsed:    0.0s\n",
      "[Parallel(n_jobs=-1)]: Done 784 tasks      | elapsed:    0.1s\n",
      "[Parallel(n_jobs=-1)]: Done 1234 tasks      | elapsed:    0.2s\n",
      "[Parallel(n_jobs=-1)]: Done 1784 tasks      | elapsed:    0.3s\n",
      "[Parallel(n_jobs=-1)]: Done 2434 tasks      | elapsed:    0.4s\n",
      "[Parallel(n_jobs=-1)]: Done 3184 tasks      | elapsed:    0.5s\n",
      "[Parallel(n_jobs=-1)]: Done 4034 tasks      | elapsed:    0.7s\n",
      "[Parallel(n_jobs=-1)]: Done 4984 tasks      | elapsed:    0.9s\n",
      "[Parallel(n_jobs=-1)]: Done 6034 tasks      | elapsed:    1.1s\n",
      "[Parallel(n_jobs=-1)]: Done 7184 tasks      | elapsed:    1.3s\n",
      "[Parallel(n_jobs=-1)]: Done 8434 tasks      | elapsed:    1.5s\n",
      "[Parallel(n_jobs=-1)]: Done 9784 tasks      | elapsed:    1.8s\n",
      "[Parallel(n_jobs=-1)]: Done 11234 tasks      | elapsed:    2.1s\n",
      "[Parallel(n_jobs=-1)]: Done 12784 tasks      | elapsed:    2.4s\n",
      "[Parallel(n_jobs=-1)]: Done 14434 tasks      | elapsed:    2.7s\n",
      "[Parallel(n_jobs=-1)]: Done 16184 tasks      | elapsed:    3.0s\n",
      "[Parallel(n_jobs=-1)]: Done 18034 tasks      | elapsed:    3.4s\n",
      "[Parallel(n_jobs=-1)]: Done 19984 tasks      | elapsed:    3.7s\n",
      "[Parallel(n_jobs=-1)]: Done 22034 tasks      | elapsed:    4.2s\n",
      "[Parallel(n_jobs=-1)]: Done 24184 tasks      | elapsed:    4.6s\n",
      "[Parallel(n_jobs=-1)]: Done 26434 tasks      | elapsed:    5.1s\n",
      "[Parallel(n_jobs=-1)]: Done 28784 tasks      | elapsed:    5.6s\n",
      "[Parallel(n_jobs=-1)]: Done 31234 tasks      | elapsed:    6.1s\n",
      "[Parallel(n_jobs=-1)]: Done 33784 tasks      | elapsed:    6.7s\n",
      "[Parallel(n_jobs=-1)]: Done 36434 tasks      | elapsed:    7.2s\n",
      "[Parallel(n_jobs=-1)]: Done 39184 tasks      | elapsed:    7.8s\n",
      "[Parallel(n_jobs=-1)]: Done 42034 tasks      | elapsed:    8.4s\n",
      "[Parallel(n_jobs=-1)]: Done 44984 tasks      | elapsed:    9.7s\n",
      "[Parallel(n_jobs=-1)]: Done 48034 tasks      | elapsed:   10.7s\n",
      "[Parallel(n_jobs=-1)]: Done 51184 tasks      | elapsed:   11.6s\n",
      "[Parallel(n_jobs=-1)]: Done 54434 tasks      | elapsed:   12.5s\n",
      "[Parallel(n_jobs=-1)]: Done 57784 tasks      | elapsed:   13.2s\n",
      "[Parallel(n_jobs=-1)]: Done 61234 tasks      | elapsed:   14.1s\n",
      "[Parallel(n_jobs=-1)]: Done 64784 tasks      | elapsed:   15.1s\n",
      "[Parallel(n_jobs=-1)]: Done 68434 tasks      | elapsed:   15.9s\n",
      "[Parallel(n_jobs=-1)]: Done 72184 tasks      | elapsed:   16.7s\n",
      "[Parallel(n_jobs=-1)]: Done 76034 tasks      | elapsed:   17.5s\n",
      "[Parallel(n_jobs=-1)]: Done 79984 tasks      | elapsed:   18.4s\n",
      "[Parallel(n_jobs=-1)]: Done 84034 tasks      | elapsed:   19.3s\n",
      "[Parallel(n_jobs=-1)]: Done 88184 tasks      | elapsed:   20.2s\n",
      "[Parallel(n_jobs=-1)]: Done 92434 tasks      | elapsed:   21.1s\n",
      "[Parallel(n_jobs=-1)]: Done 96784 tasks      | elapsed:   22.1s\n",
      "[Parallel(n_jobs=-1)]: Done 101234 tasks      | elapsed:   23.0s\n",
      "[Parallel(n_jobs=-1)]: Done 105784 tasks      | elapsed:   24.0s\n",
      "[Parallel(n_jobs=-1)]: Done 110434 tasks      | elapsed:   25.0s\n",
      "[Parallel(n_jobs=-1)]: Done 115184 tasks      | elapsed:   26.1s\n",
      "[Parallel(n_jobs=-1)]: Done 120034 tasks      | elapsed:   27.2s\n"
     ]
    },
    {
     "name": "stdout",
     "output_type": "stream",
     "text": [
      "cluster_5 silhoutte_score:  0.45684827245062604\n"
     ]
    },
    {
     "name": "stderr",
     "output_type": "stream",
     "text": [
      "[Parallel(n_jobs=-1)]: Done 124750 out of 124750 | elapsed:   28.3s finished\n"
     ]
    }
   ],
   "source": [
    "from tslearn.clustering import TimeSeriesKMeans\n",
    "from tslearn.preprocessing import TimeSeriesScalerMinMax,TimeSeriesScalerMeanVariance\n",
    "from tslearn.utils import to_time_series_dataset\n",
    "from tslearn.clustering import silhouette_score\n",
    "\n",
    "for i in range(2,6):\n",
    "    ts_dtw_model = TimeSeriesKMeans(n_clusters=i,metric='dtw', max_iter=10)\n",
    "#ts_dtw_model.fit(to_time_series_dataset(ts_lst))\n",
    "    print(f'cluster_{i} silhoutte_score: ',silhouette_score(ts_lst, ts_dtw_model.fit_predict(to_time_series_dataset(ts_lst)), metric='dtw', n_jobs=-1,verbose=1))\n",
    "\n",
    "#ts_dtw_model = TimeSeriesKMeans(n_clusters=5,metric='dtw', max_iter=10)\n",
    "#ts_stdtw_model = TimeSeriesKMeans(n_clusters=5,metric='softdtw', max_iter=10)\n",
    "#ts_stdtw_model.fit(to_time_series_dataset(ts_lst))\n",
    "#print(silhouette_score(ts_lst, ts_stdtw_model.fit_predict(to_time_series_dataset(ts_lst)), metric='softdtw', verbose=1))\n",
    "#ts_stdtw_model.cluster_centers_.shape"
   ]
  },
  {
   "cell_type": "code",
   "execution_count": 16,
   "metadata": {},
   "outputs": [
    {
     "name": "stderr",
     "output_type": "stream",
     "text": [
      "[Parallel(n_jobs=-1)]: Using backend ThreadingBackend with 8 concurrent workers.\n",
      "[Parallel(n_jobs=-1)]: Done  34 tasks      | elapsed:    0.0s\n",
      "[Parallel(n_jobs=-1)]: Done 184 tasks      | elapsed:    0.0s\n",
      "[Parallel(n_jobs=-1)]: Done 434 tasks      | elapsed:    0.0s\n",
      "[Parallel(n_jobs=-1)]: Done 784 tasks      | elapsed:    0.1s\n",
      "[Parallel(n_jobs=-1)]: Done 1234 tasks      | elapsed:    0.3s\n",
      "[Parallel(n_jobs=-1)]: Done 1784 tasks      | elapsed:    0.4s\n",
      "[Parallel(n_jobs=-1)]: Done 2434 tasks      | elapsed:    0.6s\n",
      "[Parallel(n_jobs=-1)]: Done 3184 tasks      | elapsed:    0.8s\n",
      "[Parallel(n_jobs=-1)]: Done 4034 tasks      | elapsed:    1.0s\n",
      "[Parallel(n_jobs=-1)]: Done 4984 tasks      | elapsed:    1.4s\n",
      "[Parallel(n_jobs=-1)]: Done 6034 tasks      | elapsed:    1.7s\n",
      "[Parallel(n_jobs=-1)]: Done 7184 tasks      | elapsed:    2.0s\n",
      "[Parallel(n_jobs=-1)]: Done 8434 tasks      | elapsed:    2.3s\n",
      "[Parallel(n_jobs=-1)]: Done 9784 tasks      | elapsed:    2.5s\n",
      "[Parallel(n_jobs=-1)]: Done 11234 tasks      | elapsed:    2.9s\n",
      "[Parallel(n_jobs=-1)]: Done 12784 tasks      | elapsed:    3.3s\n",
      "[Parallel(n_jobs=-1)]: Done 14434 tasks      | elapsed:    3.7s\n",
      "[Parallel(n_jobs=-1)]: Done 16184 tasks      | elapsed:    4.1s\n",
      "[Parallel(n_jobs=-1)]: Done 18034 tasks      | elapsed:    4.5s\n",
      "[Parallel(n_jobs=-1)]: Done 19984 tasks      | elapsed:    4.9s\n",
      "[Parallel(n_jobs=-1)]: Done 22034 tasks      | elapsed:    5.4s\n",
      "[Parallel(n_jobs=-1)]: Done 24184 tasks      | elapsed:    5.8s\n",
      "[Parallel(n_jobs=-1)]: Done 26434 tasks      | elapsed:    6.3s\n",
      "[Parallel(n_jobs=-1)]: Done 28784 tasks      | elapsed:    6.8s\n",
      "[Parallel(n_jobs=-1)]: Done 31234 tasks      | elapsed:    7.3s\n",
      "[Parallel(n_jobs=-1)]: Done 33784 tasks      | elapsed:    7.9s\n",
      "[Parallel(n_jobs=-1)]: Done 36434 tasks      | elapsed:    8.4s\n",
      "[Parallel(n_jobs=-1)]: Done 39184 tasks      | elapsed:    9.0s\n",
      "[Parallel(n_jobs=-1)]: Done 42034 tasks      | elapsed:    9.6s\n",
      "[Parallel(n_jobs=-1)]: Done 44984 tasks      | elapsed:   10.2s\n",
      "[Parallel(n_jobs=-1)]: Done 48034 tasks      | elapsed:   10.8s\n",
      "[Parallel(n_jobs=-1)]: Done 51184 tasks      | elapsed:   11.4s\n",
      "[Parallel(n_jobs=-1)]: Done 54434 tasks      | elapsed:   12.0s\n",
      "[Parallel(n_jobs=-1)]: Done 57784 tasks      | elapsed:   12.7s\n",
      "[Parallel(n_jobs=-1)]: Done 61234 tasks      | elapsed:   13.4s\n",
      "[Parallel(n_jobs=-1)]: Done 64784 tasks      | elapsed:   14.3s\n",
      "[Parallel(n_jobs=-1)]: Done 68434 tasks      | elapsed:   15.0s\n",
      "[Parallel(n_jobs=-1)]: Done 72184 tasks      | elapsed:   15.8s\n",
      "[Parallel(n_jobs=-1)]: Done 76034 tasks      | elapsed:   16.6s\n",
      "[Parallel(n_jobs=-1)]: Done 79984 tasks      | elapsed:   17.5s\n",
      "[Parallel(n_jobs=-1)]: Done 84034 tasks      | elapsed:   18.5s\n",
      "[Parallel(n_jobs=-1)]: Done 88184 tasks      | elapsed:   19.3s\n",
      "[Parallel(n_jobs=-1)]: Done 92434 tasks      | elapsed:   20.2s\n",
      "[Parallel(n_jobs=-1)]: Done 96784 tasks      | elapsed:   21.1s\n",
      "[Parallel(n_jobs=-1)]: Done 101234 tasks      | elapsed:   22.0s\n",
      "[Parallel(n_jobs=-1)]: Done 105784 tasks      | elapsed:   23.5s\n",
      "[Parallel(n_jobs=-1)]: Done 110434 tasks      | elapsed:   25.2s\n",
      "[Parallel(n_jobs=-1)]: Done 115184 tasks      | elapsed:   26.5s\n",
      "[Parallel(n_jobs=-1)]: Done 120034 tasks      | elapsed:   27.9s\n",
      "[Parallel(n_jobs=-1)]: Done 124750 out of 124750 | elapsed:   28.8s finished\n"
     ]
    },
    {
     "name": "stdout",
     "output_type": "stream",
     "text": [
      "cluster_2 silhoutte_score:  0.1109716008541304\n"
     ]
    },
    {
     "name": "stderr",
     "output_type": "stream",
     "text": [
      "[Parallel(n_jobs=-1)]: Using backend ThreadingBackend with 8 concurrent workers.\n",
      "[Parallel(n_jobs=-1)]: Done  34 tasks      | elapsed:    0.0s\n",
      "[Parallel(n_jobs=-1)]: Done 184 tasks      | elapsed:    0.0s\n",
      "[Parallel(n_jobs=-1)]: Done 434 tasks      | elapsed:    0.0s\n",
      "[Parallel(n_jobs=-1)]: Done 784 tasks      | elapsed:    0.1s\n",
      "[Parallel(n_jobs=-1)]: Done 1234 tasks      | elapsed:    0.1s\n",
      "[Parallel(n_jobs=-1)]: Done 1784 tasks      | elapsed:    0.3s\n",
      "[Parallel(n_jobs=-1)]: Done 2434 tasks      | elapsed:    0.4s\n",
      "[Parallel(n_jobs=-1)]: Done 3184 tasks      | elapsed:    0.6s\n",
      "[Parallel(n_jobs=-1)]: Done 4034 tasks      | elapsed:    0.8s\n",
      "[Parallel(n_jobs=-1)]: Done 4984 tasks      | elapsed:    1.0s\n",
      "[Parallel(n_jobs=-1)]: Done 6034 tasks      | elapsed:    1.2s\n",
      "[Parallel(n_jobs=-1)]: Done 7184 tasks      | elapsed:    1.5s\n",
      "[Parallel(n_jobs=-1)]: Done 8434 tasks      | elapsed:    1.8s\n",
      "[Parallel(n_jobs=-1)]: Done 9784 tasks      | elapsed:    2.1s\n",
      "[Parallel(n_jobs=-1)]: Done 11234 tasks      | elapsed:    2.4s\n",
      "[Parallel(n_jobs=-1)]: Done 12784 tasks      | elapsed:    2.7s\n",
      "[Parallel(n_jobs=-1)]: Done 14434 tasks      | elapsed:    3.0s\n",
      "[Parallel(n_jobs=-1)]: Done 16184 tasks      | elapsed:    3.4s\n",
      "[Parallel(n_jobs=-1)]: Done 18034 tasks      | elapsed:    3.8s\n",
      "[Parallel(n_jobs=-1)]: Done 19984 tasks      | elapsed:    4.2s\n",
      "[Parallel(n_jobs=-1)]: Done 22034 tasks      | elapsed:    4.7s\n",
      "[Parallel(n_jobs=-1)]: Done 24184 tasks      | elapsed:    5.7s\n",
      "[Parallel(n_jobs=-1)]: Done 26434 tasks      | elapsed:    6.4s\n",
      "[Parallel(n_jobs=-1)]: Done 28784 tasks      | elapsed:    7.2s\n",
      "[Parallel(n_jobs=-1)]: Done 31234 tasks      | elapsed:    8.3s\n",
      "[Parallel(n_jobs=-1)]: Done 33784 tasks      | elapsed:    9.2s\n",
      "[Parallel(n_jobs=-1)]: Done 36434 tasks      | elapsed:    9.8s\n",
      "[Parallel(n_jobs=-1)]: Done 39184 tasks      | elapsed:   10.4s\n",
      "[Parallel(n_jobs=-1)]: Done 42034 tasks      | elapsed:   11.0s\n",
      "[Parallel(n_jobs=-1)]: Done 44984 tasks      | elapsed:   11.6s\n",
      "[Parallel(n_jobs=-1)]: Done 48034 tasks      | elapsed:   12.3s\n",
      "[Parallel(n_jobs=-1)]: Done 51184 tasks      | elapsed:   12.9s\n",
      "[Parallel(n_jobs=-1)]: Done 54434 tasks      | elapsed:   13.6s\n",
      "[Parallel(n_jobs=-1)]: Done 57784 tasks      | elapsed:   14.3s\n",
      "[Parallel(n_jobs=-1)]: Done 61234 tasks      | elapsed:   15.0s\n",
      "[Parallel(n_jobs=-1)]: Done 64784 tasks      | elapsed:   15.8s\n",
      "[Parallel(n_jobs=-1)]: Done 68434 tasks      | elapsed:   16.5s\n",
      "[Parallel(n_jobs=-1)]: Done 72184 tasks      | elapsed:   17.2s\n",
      "[Parallel(n_jobs=-1)]: Done 76034 tasks      | elapsed:   18.0s\n",
      "[Parallel(n_jobs=-1)]: Done 79984 tasks      | elapsed:   18.8s\n",
      "[Parallel(n_jobs=-1)]: Done 84034 tasks      | elapsed:   19.6s\n",
      "[Parallel(n_jobs=-1)]: Done 88184 tasks      | elapsed:   20.4s\n",
      "[Parallel(n_jobs=-1)]: Done 92434 tasks      | elapsed:   21.3s\n",
      "[Parallel(n_jobs=-1)]: Done 96784 tasks      | elapsed:   22.2s\n",
      "[Parallel(n_jobs=-1)]: Done 101234 tasks      | elapsed:   23.1s\n",
      "[Parallel(n_jobs=-1)]: Done 105784 tasks      | elapsed:   24.0s\n",
      "[Parallel(n_jobs=-1)]: Done 110434 tasks      | elapsed:   24.9s\n",
      "[Parallel(n_jobs=-1)]: Done 115184 tasks      | elapsed:   25.8s\n",
      "[Parallel(n_jobs=-1)]: Done 120034 tasks      | elapsed:   26.8s\n",
      "[Parallel(n_jobs=-1)]: Done 124750 out of 124750 | elapsed:   27.7s finished\n"
     ]
    },
    {
     "name": "stdout",
     "output_type": "stream",
     "text": [
      "cluster_3 silhoutte_score:  -0.060073212842995515\n"
     ]
    },
    {
     "name": "stderr",
     "output_type": "stream",
     "text": [
      "[Parallel(n_jobs=-1)]: Using backend ThreadingBackend with 8 concurrent workers.\n",
      "[Parallel(n_jobs=-1)]: Done  34 tasks      | elapsed:    0.0s\n",
      "[Parallel(n_jobs=-1)]: Done 184 tasks      | elapsed:    0.0s\n",
      "[Parallel(n_jobs=-1)]: Done 434 tasks      | elapsed:    0.0s\n",
      "[Parallel(n_jobs=-1)]: Done 784 tasks      | elapsed:    0.1s\n",
      "[Parallel(n_jobs=-1)]: Done 1234 tasks      | elapsed:    0.1s\n",
      "[Parallel(n_jobs=-1)]: Done 1784 tasks      | elapsed:    0.3s\n",
      "[Parallel(n_jobs=-1)]: Done 2434 tasks      | elapsed:    0.4s\n",
      "[Parallel(n_jobs=-1)]: Done 3184 tasks      | elapsed:    0.6s\n",
      "[Parallel(n_jobs=-1)]: Done 4034 tasks      | elapsed:    0.8s\n",
      "[Parallel(n_jobs=-1)]: Done 4984 tasks      | elapsed:    1.0s\n",
      "[Parallel(n_jobs=-1)]: Done 6034 tasks      | elapsed:    1.2s\n",
      "[Parallel(n_jobs=-1)]: Done 7184 tasks      | elapsed:    1.4s\n",
      "[Parallel(n_jobs=-1)]: Done 8434 tasks      | elapsed:    1.7s\n",
      "[Parallel(n_jobs=-1)]: Done 9784 tasks      | elapsed:    2.0s\n",
      "[Parallel(n_jobs=-1)]: Done 11234 tasks      | elapsed:    2.3s\n",
      "[Parallel(n_jobs=-1)]: Done 12784 tasks      | elapsed:    2.7s\n",
      "[Parallel(n_jobs=-1)]: Done 14434 tasks      | elapsed:    3.0s\n",
      "[Parallel(n_jobs=-1)]: Done 16184 tasks      | elapsed:    3.4s\n",
      "[Parallel(n_jobs=-1)]: Done 18034 tasks      | elapsed:    3.8s\n",
      "[Parallel(n_jobs=-1)]: Done 19984 tasks      | elapsed:    4.2s\n",
      "[Parallel(n_jobs=-1)]: Done 22034 tasks      | elapsed:    4.6s\n",
      "[Parallel(n_jobs=-1)]: Done 24184 tasks      | elapsed:    5.1s\n",
      "[Parallel(n_jobs=-1)]: Done 26434 tasks      | elapsed:    5.6s\n",
      "[Parallel(n_jobs=-1)]: Done 28784 tasks      | elapsed:    6.1s\n",
      "[Parallel(n_jobs=-1)]: Done 31234 tasks      | elapsed:    6.7s\n",
      "[Parallel(n_jobs=-1)]: Done 33784 tasks      | elapsed:    7.2s\n",
      "[Parallel(n_jobs=-1)]: Done 36434 tasks      | elapsed:    7.8s\n",
      "[Parallel(n_jobs=-1)]: Done 39184 tasks      | elapsed:    8.3s\n",
      "[Parallel(n_jobs=-1)]: Done 42034 tasks      | elapsed:    8.9s\n",
      "[Parallel(n_jobs=-1)]: Done 44984 tasks      | elapsed:    9.5s\n",
      "[Parallel(n_jobs=-1)]: Done 48034 tasks      | elapsed:   10.2s\n",
      "[Parallel(n_jobs=-1)]: Done 51184 tasks      | elapsed:   10.9s\n",
      "[Parallel(n_jobs=-1)]: Done 54434 tasks      | elapsed:   11.6s\n",
      "[Parallel(n_jobs=-1)]: Done 57784 tasks      | elapsed:   12.4s\n",
      "[Parallel(n_jobs=-1)]: Done 61234 tasks      | elapsed:   13.3s\n"
     ]
    },
    {
     "ename": "KeyboardInterrupt",
     "evalue": "",
     "output_type": "error",
     "traceback": [
      "\u001b[1;31m---------------------------------------------------------------------------\u001b[0m",
      "\u001b[1;31mKeyboardInterrupt\u001b[0m                         Traceback (most recent call last)",
      "\u001b[1;32m~\\AppData\\Local\\Temp\\ipykernel_11840\\1817286538.py\u001b[0m in \u001b[0;36m<module>\u001b[1;34m\u001b[0m\n\u001b[0;32m      2\u001b[0m     \u001b[0mts_dtw_model\u001b[0m \u001b[1;33m=\u001b[0m \u001b[0mTimeSeriesKMeans\u001b[0m\u001b[1;33m(\u001b[0m\u001b[0mn_clusters\u001b[0m\u001b[1;33m=\u001b[0m\u001b[0mi\u001b[0m\u001b[1;33m,\u001b[0m\u001b[0mmetric\u001b[0m\u001b[1;33m=\u001b[0m\u001b[1;34m'dtw'\u001b[0m\u001b[1;33m,\u001b[0m \u001b[0mmax_iter\u001b[0m\u001b[1;33m=\u001b[0m\u001b[1;36m10\u001b[0m\u001b[1;33m)\u001b[0m\u001b[1;33m\u001b[0m\u001b[1;33m\u001b[0m\u001b[0m\n\u001b[0;32m      3\u001b[0m \u001b[1;31m#ts_dtw_model.fit(to_time_series_dataset(ts_lst))\u001b[0m\u001b[1;33m\u001b[0m\u001b[1;33m\u001b[0m\u001b[1;33m\u001b[0m\u001b[0m\n\u001b[1;32m----> 4\u001b[1;33m     \u001b[0mprint\u001b[0m\u001b[1;33m(\u001b[0m\u001b[1;34mf'cluster_{i} silhoutte_score: '\u001b[0m\u001b[1;33m,\u001b[0m\u001b[0msilhouette_score\u001b[0m\u001b[1;33m(\u001b[0m\u001b[0mts_lst\u001b[0m\u001b[1;33m,\u001b[0m \u001b[0mts_dtw_model\u001b[0m\u001b[1;33m.\u001b[0m\u001b[0mfit_predict\u001b[0m\u001b[1;33m(\u001b[0m\u001b[0mTimeSeriesScalerMinMax\u001b[0m\u001b[1;33m(\u001b[0m\u001b[1;33m)\u001b[0m\u001b[1;33m.\u001b[0m\u001b[0mfit_transform\u001b[0m\u001b[1;33m(\u001b[0m\u001b[0mts_lst\u001b[0m\u001b[1;33m)\u001b[0m\u001b[1;33m)\u001b[0m\u001b[1;33m,\u001b[0m \u001b[0mmetric\u001b[0m\u001b[1;33m=\u001b[0m\u001b[1;34m'dtw'\u001b[0m\u001b[1;33m,\u001b[0m \u001b[0mn_jobs\u001b[0m\u001b[1;33m=\u001b[0m\u001b[1;33m-\u001b[0m\u001b[1;36m1\u001b[0m\u001b[1;33m,\u001b[0m\u001b[0mverbose\u001b[0m\u001b[1;33m=\u001b[0m\u001b[1;36m1\u001b[0m\u001b[1;33m)\u001b[0m\u001b[1;33m)\u001b[0m\u001b[1;33m\u001b[0m\u001b[1;33m\u001b[0m\u001b[0m\n\u001b[0m",
      "\u001b[1;32mc:\\Users\\hyosk\\miniconda3\\envs\\mobis\\lib\\site-packages\\tslearn\\clustering\\utils.py\u001b[0m in \u001b[0;36msilhouette_score\u001b[1;34m(X, labels, metric, sample_size, metric_params, n_jobs, verbose, random_state, **kwds)\u001b[0m\n\u001b[0;32m    172\u001b[0m     \u001b[1;32melif\u001b[0m \u001b[0mmetric\u001b[0m \u001b[1;33m==\u001b[0m \u001b[1;34m\"dtw\"\u001b[0m \u001b[1;32mor\u001b[0m \u001b[0mmetric\u001b[0m \u001b[1;32mis\u001b[0m \u001b[1;32mNone\u001b[0m\u001b[1;33m:\u001b[0m\u001b[1;33m\u001b[0m\u001b[1;33m\u001b[0m\u001b[0m\n\u001b[0;32m    173\u001b[0m         sklearn_X = cdist_dtw(X, n_jobs=n_jobs, verbose=verbose,\n\u001b[1;32m--> 174\u001b[1;33m                               **metric_params_)\n\u001b[0m\u001b[0;32m    175\u001b[0m     \u001b[1;32melif\u001b[0m \u001b[0mmetric\u001b[0m \u001b[1;33m==\u001b[0m \u001b[1;34m\"softdtw\"\u001b[0m\u001b[1;33m:\u001b[0m\u001b[1;33m\u001b[0m\u001b[1;33m\u001b[0m\u001b[0m\n\u001b[0;32m    176\u001b[0m         \u001b[0msklearn_X\u001b[0m \u001b[1;33m=\u001b[0m \u001b[0mcdist_soft_dtw_normalized\u001b[0m\u001b[1;33m(\u001b[0m\u001b[0mX\u001b[0m\u001b[1;33m,\u001b[0m \u001b[1;33m**\u001b[0m\u001b[0mmetric_params_\u001b[0m\u001b[1;33m)\u001b[0m\u001b[1;33m\u001b[0m\u001b[1;33m\u001b[0m\u001b[0m\n",
      "\u001b[1;32mc:\\Users\\hyosk\\miniconda3\\envs\\mobis\\lib\\site-packages\\tslearn\\metrics\\dtw_variants.py\u001b[0m in \u001b[0;36mcdist_dtw\u001b[1;34m(dataset1, dataset2, global_constraint, sakoe_chiba_radius, itakura_max_slope, n_jobs, verbose)\u001b[0m\n\u001b[0;32m   1227\u001b[0m                           \u001b[0mglobal_constraint\u001b[0m\u001b[1;33m=\u001b[0m\u001b[0mglobal_constraint\u001b[0m\u001b[1;33m,\u001b[0m\u001b[1;33m\u001b[0m\u001b[1;33m\u001b[0m\u001b[0m\n\u001b[0;32m   1228\u001b[0m                           \u001b[0msakoe_chiba_radius\u001b[0m\u001b[1;33m=\u001b[0m\u001b[0msakoe_chiba_radius\u001b[0m\u001b[1;33m,\u001b[0m\u001b[1;33m\u001b[0m\u001b[1;33m\u001b[0m\u001b[0m\n\u001b[1;32m-> 1229\u001b[1;33m                           itakura_max_slope=itakura_max_slope)\n\u001b[0m\u001b[0;32m   1230\u001b[0m \u001b[1;33m\u001b[0m\u001b[0m\n\u001b[0;32m   1231\u001b[0m \u001b[1;32mdef\u001b[0m \u001b[0mlb_keogh\u001b[0m\u001b[1;33m(\u001b[0m\u001b[0mts_query\u001b[0m\u001b[1;33m,\u001b[0m \u001b[0mts_candidate\u001b[0m\u001b[1;33m=\u001b[0m\u001b[1;32mNone\u001b[0m\u001b[1;33m,\u001b[0m \u001b[0mradius\u001b[0m\u001b[1;33m=\u001b[0m\u001b[1;36m1\u001b[0m\u001b[1;33m,\u001b[0m \u001b[0menvelope_candidate\u001b[0m\u001b[1;33m=\u001b[0m\u001b[1;32mNone\u001b[0m\u001b[1;33m)\u001b[0m\u001b[1;33m:\u001b[0m\u001b[1;33m\u001b[0m\u001b[1;33m\u001b[0m\u001b[0m\n",
      "\u001b[1;32mc:\\Users\\hyosk\\miniconda3\\envs\\mobis\\lib\\site-packages\\tslearn\\metrics\\utils.py\u001b[0m in \u001b[0;36m_cdist_generic\u001b[1;34m(dist_fun, dataset1, dataset2, n_jobs, verbose, compute_diagonal, dtype, *args, **kwargs)\u001b[0m\n\u001b[0;32m     67\u001b[0m                 \u001b[1;33m*\u001b[0m\u001b[0margs\u001b[0m\u001b[1;33m,\u001b[0m \u001b[1;33m**\u001b[0m\u001b[0mkwargs\u001b[0m\u001b[1;33m\u001b[0m\u001b[1;33m\u001b[0m\u001b[0m\n\u001b[0;32m     68\u001b[0m             )\n\u001b[1;32m---> 69\u001b[1;33m             \u001b[1;32mfor\u001b[0m \u001b[0mi\u001b[0m \u001b[1;32min\u001b[0m \u001b[0mrange\u001b[0m\u001b[1;33m(\u001b[0m\u001b[0mlen\u001b[0m\u001b[1;33m(\u001b[0m\u001b[0mdataset1\u001b[0m\u001b[1;33m)\u001b[0m\u001b[1;33m)\u001b[0m\u001b[1;33m\u001b[0m\u001b[1;33m\u001b[0m\u001b[0m\n\u001b[0m\u001b[0;32m     70\u001b[0m             for j in range(i if compute_diagonal else i + 1,\n\u001b[0;32m     71\u001b[0m                            len(dataset1))\n",
      "\u001b[1;32mc:\\Users\\hyosk\\miniconda3\\envs\\mobis\\lib\\site-packages\\joblib\\parallel.py\u001b[0m in \u001b[0;36m__call__\u001b[1;34m(self, iterable)\u001b[0m\n\u001b[0;32m   1054\u001b[0m \u001b[1;33m\u001b[0m\u001b[0m\n\u001b[0;32m   1055\u001b[0m             \u001b[1;32mwith\u001b[0m \u001b[0mself\u001b[0m\u001b[1;33m.\u001b[0m\u001b[0m_backend\u001b[0m\u001b[1;33m.\u001b[0m\u001b[0mretrieval_context\u001b[0m\u001b[1;33m(\u001b[0m\u001b[1;33m)\u001b[0m\u001b[1;33m:\u001b[0m\u001b[1;33m\u001b[0m\u001b[1;33m\u001b[0m\u001b[0m\n\u001b[1;32m-> 1056\u001b[1;33m                 \u001b[0mself\u001b[0m\u001b[1;33m.\u001b[0m\u001b[0mretrieve\u001b[0m\u001b[1;33m(\u001b[0m\u001b[1;33m)\u001b[0m\u001b[1;33m\u001b[0m\u001b[1;33m\u001b[0m\u001b[0m\n\u001b[0m\u001b[0;32m   1057\u001b[0m             \u001b[1;31m# Make sure that we get a last message telling us we are done\u001b[0m\u001b[1;33m\u001b[0m\u001b[1;33m\u001b[0m\u001b[1;33m\u001b[0m\u001b[0m\n\u001b[0;32m   1058\u001b[0m             \u001b[0melapsed_time\u001b[0m \u001b[1;33m=\u001b[0m \u001b[0mtime\u001b[0m\u001b[1;33m.\u001b[0m\u001b[0mtime\u001b[0m\u001b[1;33m(\u001b[0m\u001b[1;33m)\u001b[0m \u001b[1;33m-\u001b[0m \u001b[0mself\u001b[0m\u001b[1;33m.\u001b[0m\u001b[0m_start_time\u001b[0m\u001b[1;33m\u001b[0m\u001b[1;33m\u001b[0m\u001b[0m\n",
      "\u001b[1;32mc:\\Users\\hyosk\\miniconda3\\envs\\mobis\\lib\\site-packages\\joblib\\parallel.py\u001b[0m in \u001b[0;36mretrieve\u001b[1;34m(self)\u001b[0m\n\u001b[0;32m    933\u001b[0m             \u001b[1;32mtry\u001b[0m\u001b[1;33m:\u001b[0m\u001b[1;33m\u001b[0m\u001b[1;33m\u001b[0m\u001b[0m\n\u001b[0;32m    934\u001b[0m                 \u001b[1;32mif\u001b[0m \u001b[0mgetattr\u001b[0m\u001b[1;33m(\u001b[0m\u001b[0mself\u001b[0m\u001b[1;33m.\u001b[0m\u001b[0m_backend\u001b[0m\u001b[1;33m,\u001b[0m \u001b[1;34m'supports_timeout'\u001b[0m\u001b[1;33m,\u001b[0m \u001b[1;32mFalse\u001b[0m\u001b[1;33m)\u001b[0m\u001b[1;33m:\u001b[0m\u001b[1;33m\u001b[0m\u001b[1;33m\u001b[0m\u001b[0m\n\u001b[1;32m--> 935\u001b[1;33m                     \u001b[0mself\u001b[0m\u001b[1;33m.\u001b[0m\u001b[0m_output\u001b[0m\u001b[1;33m.\u001b[0m\u001b[0mextend\u001b[0m\u001b[1;33m(\u001b[0m\u001b[0mjob\u001b[0m\u001b[1;33m.\u001b[0m\u001b[0mget\u001b[0m\u001b[1;33m(\u001b[0m\u001b[0mtimeout\u001b[0m\u001b[1;33m=\u001b[0m\u001b[0mself\u001b[0m\u001b[1;33m.\u001b[0m\u001b[0mtimeout\u001b[0m\u001b[1;33m)\u001b[0m\u001b[1;33m)\u001b[0m\u001b[1;33m\u001b[0m\u001b[1;33m\u001b[0m\u001b[0m\n\u001b[0m\u001b[0;32m    936\u001b[0m                 \u001b[1;32melse\u001b[0m\u001b[1;33m:\u001b[0m\u001b[1;33m\u001b[0m\u001b[1;33m\u001b[0m\u001b[0m\n\u001b[0;32m    937\u001b[0m                     \u001b[0mself\u001b[0m\u001b[1;33m.\u001b[0m\u001b[0m_output\u001b[0m\u001b[1;33m.\u001b[0m\u001b[0mextend\u001b[0m\u001b[1;33m(\u001b[0m\u001b[0mjob\u001b[0m\u001b[1;33m.\u001b[0m\u001b[0mget\u001b[0m\u001b[1;33m(\u001b[0m\u001b[1;33m)\u001b[0m\u001b[1;33m)\u001b[0m\u001b[1;33m\u001b[0m\u001b[1;33m\u001b[0m\u001b[0m\n",
      "\u001b[1;32mc:\\Users\\hyosk\\miniconda3\\envs\\mobis\\lib\\multiprocessing\\pool.py\u001b[0m in \u001b[0;36mget\u001b[1;34m(self, timeout)\u001b[0m\n\u001b[0;32m    649\u001b[0m \u001b[1;33m\u001b[0m\u001b[0m\n\u001b[0;32m    650\u001b[0m     \u001b[1;32mdef\u001b[0m \u001b[0mget\u001b[0m\u001b[1;33m(\u001b[0m\u001b[0mself\u001b[0m\u001b[1;33m,\u001b[0m \u001b[0mtimeout\u001b[0m\u001b[1;33m=\u001b[0m\u001b[1;32mNone\u001b[0m\u001b[1;33m)\u001b[0m\u001b[1;33m:\u001b[0m\u001b[1;33m\u001b[0m\u001b[1;33m\u001b[0m\u001b[0m\n\u001b[1;32m--> 651\u001b[1;33m         \u001b[0mself\u001b[0m\u001b[1;33m.\u001b[0m\u001b[0mwait\u001b[0m\u001b[1;33m(\u001b[0m\u001b[0mtimeout\u001b[0m\u001b[1;33m)\u001b[0m\u001b[1;33m\u001b[0m\u001b[1;33m\u001b[0m\u001b[0m\n\u001b[0m\u001b[0;32m    652\u001b[0m         \u001b[1;32mif\u001b[0m \u001b[1;32mnot\u001b[0m \u001b[0mself\u001b[0m\u001b[1;33m.\u001b[0m\u001b[0mready\u001b[0m\u001b[1;33m(\u001b[0m\u001b[1;33m)\u001b[0m\u001b[1;33m:\u001b[0m\u001b[1;33m\u001b[0m\u001b[1;33m\u001b[0m\u001b[0m\n\u001b[0;32m    653\u001b[0m             \u001b[1;32mraise\u001b[0m \u001b[0mTimeoutError\u001b[0m\u001b[1;33m\u001b[0m\u001b[1;33m\u001b[0m\u001b[0m\n",
      "\u001b[1;32mc:\\Users\\hyosk\\miniconda3\\envs\\mobis\\lib\\multiprocessing\\pool.py\u001b[0m in \u001b[0;36mwait\u001b[1;34m(self, timeout)\u001b[0m\n\u001b[0;32m    646\u001b[0m \u001b[1;33m\u001b[0m\u001b[0m\n\u001b[0;32m    647\u001b[0m     \u001b[1;32mdef\u001b[0m \u001b[0mwait\u001b[0m\u001b[1;33m(\u001b[0m\u001b[0mself\u001b[0m\u001b[1;33m,\u001b[0m \u001b[0mtimeout\u001b[0m\u001b[1;33m=\u001b[0m\u001b[1;32mNone\u001b[0m\u001b[1;33m)\u001b[0m\u001b[1;33m:\u001b[0m\u001b[1;33m\u001b[0m\u001b[1;33m\u001b[0m\u001b[0m\n\u001b[1;32m--> 648\u001b[1;33m         \u001b[0mself\u001b[0m\u001b[1;33m.\u001b[0m\u001b[0m_event\u001b[0m\u001b[1;33m.\u001b[0m\u001b[0mwait\u001b[0m\u001b[1;33m(\u001b[0m\u001b[0mtimeout\u001b[0m\u001b[1;33m)\u001b[0m\u001b[1;33m\u001b[0m\u001b[1;33m\u001b[0m\u001b[0m\n\u001b[0m\u001b[0;32m    649\u001b[0m \u001b[1;33m\u001b[0m\u001b[0m\n\u001b[0;32m    650\u001b[0m     \u001b[1;32mdef\u001b[0m \u001b[0mget\u001b[0m\u001b[1;33m(\u001b[0m\u001b[0mself\u001b[0m\u001b[1;33m,\u001b[0m \u001b[0mtimeout\u001b[0m\u001b[1;33m=\u001b[0m\u001b[1;32mNone\u001b[0m\u001b[1;33m)\u001b[0m\u001b[1;33m:\u001b[0m\u001b[1;33m\u001b[0m\u001b[1;33m\u001b[0m\u001b[0m\n",
      "\u001b[1;32mc:\\Users\\hyosk\\miniconda3\\envs\\mobis\\lib\\threading.py\u001b[0m in \u001b[0;36mwait\u001b[1;34m(self, timeout)\u001b[0m\n\u001b[0;32m    550\u001b[0m             \u001b[0msignaled\u001b[0m \u001b[1;33m=\u001b[0m \u001b[0mself\u001b[0m\u001b[1;33m.\u001b[0m\u001b[0m_flag\u001b[0m\u001b[1;33m\u001b[0m\u001b[1;33m\u001b[0m\u001b[0m\n\u001b[0;32m    551\u001b[0m             \u001b[1;32mif\u001b[0m \u001b[1;32mnot\u001b[0m \u001b[0msignaled\u001b[0m\u001b[1;33m:\u001b[0m\u001b[1;33m\u001b[0m\u001b[1;33m\u001b[0m\u001b[0m\n\u001b[1;32m--> 552\u001b[1;33m                 \u001b[0msignaled\u001b[0m \u001b[1;33m=\u001b[0m \u001b[0mself\u001b[0m\u001b[1;33m.\u001b[0m\u001b[0m_cond\u001b[0m\u001b[1;33m.\u001b[0m\u001b[0mwait\u001b[0m\u001b[1;33m(\u001b[0m\u001b[0mtimeout\u001b[0m\u001b[1;33m)\u001b[0m\u001b[1;33m\u001b[0m\u001b[1;33m\u001b[0m\u001b[0m\n\u001b[0m\u001b[0;32m    553\u001b[0m             \u001b[1;32mreturn\u001b[0m \u001b[0msignaled\u001b[0m\u001b[1;33m\u001b[0m\u001b[1;33m\u001b[0m\u001b[0m\n\u001b[0;32m    554\u001b[0m \u001b[1;33m\u001b[0m\u001b[0m\n",
      "\u001b[1;32mc:\\Users\\hyosk\\miniconda3\\envs\\mobis\\lib\\threading.py\u001b[0m in \u001b[0;36mwait\u001b[1;34m(self, timeout)\u001b[0m\n\u001b[0;32m    294\u001b[0m         \u001b[1;32mtry\u001b[0m\u001b[1;33m:\u001b[0m    \u001b[1;31m# restore state no matter what (e.g., KeyboardInterrupt)\u001b[0m\u001b[1;33m\u001b[0m\u001b[1;33m\u001b[0m\u001b[0m\n\u001b[0;32m    295\u001b[0m             \u001b[1;32mif\u001b[0m \u001b[0mtimeout\u001b[0m \u001b[1;32mis\u001b[0m \u001b[1;32mNone\u001b[0m\u001b[1;33m:\u001b[0m\u001b[1;33m\u001b[0m\u001b[1;33m\u001b[0m\u001b[0m\n\u001b[1;32m--> 296\u001b[1;33m                 \u001b[0mwaiter\u001b[0m\u001b[1;33m.\u001b[0m\u001b[0macquire\u001b[0m\u001b[1;33m(\u001b[0m\u001b[1;33m)\u001b[0m\u001b[1;33m\u001b[0m\u001b[1;33m\u001b[0m\u001b[0m\n\u001b[0m\u001b[0;32m    297\u001b[0m                 \u001b[0mgotit\u001b[0m \u001b[1;33m=\u001b[0m \u001b[1;32mTrue\u001b[0m\u001b[1;33m\u001b[0m\u001b[1;33m\u001b[0m\u001b[0m\n\u001b[0;32m    298\u001b[0m             \u001b[1;32melse\u001b[0m\u001b[1;33m:\u001b[0m\u001b[1;33m\u001b[0m\u001b[1;33m\u001b[0m\u001b[0m\n",
      "\u001b[1;31mKeyboardInterrupt\u001b[0m: "
     ]
    }
   ],
   "source": [
    "for i in range(2,6):\n",
    "    ts_dtw_model = TimeSeriesKMeans(n_clusters=i,metric='dtw', max_iter=10)\n",
    "#ts_dtw_model.fit(to_time_series_dataset(ts_lst))\n",
    "    print(f'cluster_{i} silhoutte_score: ',silhouette_score(ts_lst, ts_dtw_model.fit_predict(TimeSeriesScalerMinMax().fit_transform(ts_lst)), metric='dtw', n_jobs=-1,verbose=1))"
   ]
  },
  {
   "cell_type": "code",
   "execution_count": 14,
   "metadata": {},
   "outputs": [
    {
     "data": {
      "text/plain": [
       "array([[[1.24615385],\n",
       "        [1.28205128],\n",
       "        [1.31794872],\n",
       "        ...,\n",
       "        [1.44615385],\n",
       "        [1.56410256],\n",
       "        [1.05128205]],\n",
       "\n",
       "       [[1.19852941],\n",
       "        [1.32720588],\n",
       "        [1.29963235],\n",
       "        ...,\n",
       "        [1.47242647],\n",
       "        [1.54227941],\n",
       "        [1.04411765]],\n",
       "\n",
       "       [[1.20186335],\n",
       "        [1.28881988],\n",
       "        [1.28881988],\n",
       "        ...,\n",
       "        [1.48447205],\n",
       "        [1.50310559],\n",
       "        [1.00621118]],\n",
       "\n",
       "       ...,\n",
       "\n",
       "       [[1.17637271],\n",
       "        [1.31946755],\n",
       "        [1.32445923],\n",
       "        ...,\n",
       "        [1.4608985 ],\n",
       "        [1.48419301],\n",
       "        [1.0249584 ]],\n",
       "\n",
       "       [[1.22580645],\n",
       "        [1.34017595],\n",
       "        [1.29032258],\n",
       "        ...,\n",
       "        [1.46920821],\n",
       "        [1.49266862],\n",
       "        [1.07331378]],\n",
       "\n",
       "       [[1.21097046],\n",
       "        [1.30801688],\n",
       "        [1.29817159],\n",
       "        ...,\n",
       "        [1.55414909],\n",
       "        [1.51758087],\n",
       "        [1.03375527]]])"
      ]
     },
     "execution_count": 14,
     "metadata": {},
     "output_type": "execute_result"
    }
   ],
   "source": [
    "TimeSeriesScalerMinMax().fit_transform(ts_lst)"
   ]
  },
  {
   "cell_type": "code",
   "execution_count": 15,
   "metadata": {},
   "outputs": [
    {
     "data": {
      "text/plain": [
       "array([[[ 61],\n",
       "        [ 68],\n",
       "        [ 75],\n",
       "        ...,\n",
       "        [100],\n",
       "        [123],\n",
       "        [ 23]],\n",
       "\n",
       "       [[151],\n",
       "        [221],\n",
       "        [206],\n",
       "        ...,\n",
       "        [300],\n",
       "        [338],\n",
       "        [ 67]],\n",
       "\n",
       "       [[ 92],\n",
       "        [120],\n",
       "        [120],\n",
       "        ...,\n",
       "        [183],\n",
       "        [189],\n",
       "        [ 29]],\n",
       "\n",
       "       ...,\n",
       "\n",
       "       [[151],\n",
       "        [237],\n",
       "        [240],\n",
       "        ...,\n",
       "        [322],\n",
       "        [336],\n",
       "        [ 60]],\n",
       "\n",
       "       [[ 94],\n",
       "        [133],\n",
       "        [116],\n",
       "        ...,\n",
       "        [177],\n",
       "        [185],\n",
       "        [ 42]],\n",
       "\n",
       "       [[208],\n",
       "        [277],\n",
       "        [270],\n",
       "        ...,\n",
       "        [452],\n",
       "        [426],\n",
       "        [ 82]]])"
      ]
     },
     "execution_count": 15,
     "metadata": {},
     "output_type": "execute_result"
    }
   ],
   "source": [
    "ts_lst"
   ]
  },
  {
   "cell_type": "code",
   "execution_count": null,
   "metadata": {},
   "outputs": [],
   "source": [
    "print(silhouette_score(ts_lst, ts_stdtw_model.fit_predict(to_time_series_dataset(ts_lst)), metric='softdtw', verbose=1))"
   ]
  },
  {
   "cell_type": "code",
   "execution_count": null,
   "metadata": {},
   "outputs": [],
   "source": []
  },
  {
   "cell_type": "code",
   "execution_count": null,
   "metadata": {},
   "outputs": [],
   "source": []
  }
 ],
 "metadata": {
  "interpreter": {
   "hash": "fb11f84e0b89ffaef9d5d66ef49b309e3c048241270a92f6aeff316a5ba47a7d"
  },
  "kernelspec": {
   "display_name": "Python 3.7.13 ('mobis')",
   "language": "python",
   "name": "python3"
  },
  "language_info": {
   "codemirror_mode": {
    "name": "ipython",
    "version": 3
   },
   "file_extension": ".py",
   "mimetype": "text/x-python",
   "name": "python",
   "nbconvert_exporter": "python",
   "pygments_lexer": "ipython3",
   "version": "3.7.13"
  },
  "orig_nbformat": 4
 },
 "nbformat": 4,
 "nbformat_minor": 2
}
